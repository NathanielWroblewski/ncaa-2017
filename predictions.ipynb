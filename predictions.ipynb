{
 "cells": [
  {
   "cell_type": "markdown",
   "metadata": {
    "deletable": true,
    "editable": true
   },
   "source": [
    "NCAA bracket predictions 2017\n",
    "---\n",
    "\n",
    "Import necessary dependencies"
   ]
  },
  {
   "cell_type": "code",
   "execution_count": 41,
   "metadata": {
    "collapsed": true,
    "deletable": true,
    "editable": true
   },
   "outputs": [],
   "source": [
    "%matplotlib inline\n",
    "import pandas as pd\n",
    "import numpy as np\n",
    "from sklearn.linear_model import LogisticRegression\n",
    "import matplotlib.pyplot as plt\n",
    "from sklearn.linear_model import LinearRegression\n",
    "from math import isnan"
   ]
  },
  {
   "cell_type": "markdown",
   "metadata": {
    "deletable": true,
    "editable": true
   },
   "source": [
    "Create some helper functions"
   ]
  },
  {
   "cell_type": "code",
   "execution_count": 42,
   "metadata": {
    "collapsed": true,
    "deletable": true,
    "editable": true
   },
   "outputs": [],
   "source": [
    "def from_csv(path):\n",
    "    csv = pd.read_csv(path)\n",
    "    return np.asarray(csv)"
   ]
  },
  {
   "cell_type": "markdown",
   "metadata": {
    "deletable": true,
    "editable": true
   },
   "source": [
    "Run a logistic regression against the pointspread data"
   ]
  },
  {
   "cell_type": "code",
   "execution_count": 43,
   "metadata": {
    "collapsed": false,
    "deletable": true,
    "editable": true
   },
   "outputs": [
    {
     "data": {
      "text/plain": [
       "LogisticRegression(C=1.0, class_weight=None, dual=False, fit_intercept=True,\n",
       "          intercept_scaling=1, max_iter=100, multi_class='ovr', n_jobs=1,\n",
       "          penalty='l2', random_state=None, solver='lbfgs', tol=0.0001,\n",
       "          verbose=0, warm_start=False)"
      ]
     },
     "execution_count": 43,
     "metadata": {},
     "output_type": "execute_result"
    }
   ],
   "source": [
    "# year, spread, home_id, home_team, home_offense, home_defense, away_id, away_team, away_offense, away_defense, winloss\n",
    "data = from_csv('./datasets/full_spreads.csv')\n",
    "\n",
    "spreads = data[:, 1].reshape(-1, 1)\n",
    "labels = np.asarray(data[:, -1], dtype='int')\n",
    "\n",
    "spread_classifier = LogisticRegression(solver='lbfgs')\n",
    "spread_classifier.fit(spreads, labels)"
   ]
  },
  {
   "cell_type": "code",
   "execution_count": 44,
   "metadata": {
    "collapsed": false,
    "deletable": true,
    "editable": true
   },
   "outputs": [
    {
     "data": {
      "image/png": "[encoded data removed]",
      "text/plain": [
       "<matplotlib.figure.Figure at 0x10984dc50>"
      ]
     },
     "metadata": {},
     "output_type": "display_data"
    }
   ],
   "source": [
    "range_of_spreads = np.arange(-40, 40)\n",
    "range_of_spreads.shape = (80,1)\n",
    "\n",
    "predictions = spread_classifier.predict_proba(range_of_spreads)[:, 1]\n",
    "\n",
    "plt.plot(range_of_spreads, predictions)\n",
    "plt.show()"
   ]
  },
  {
   "cell_type": "markdown",
   "metadata": {
    "deletable": true,
    "editable": true
   },
   "source": [
    "After the first round, no pointspread data will be available, so we'll need to estimate the pointspread based on the team stats.  Run a linear regression on historical matchup data"
   ]
  },
  {
   "cell_type": "code",
   "execution_count": 45,
   "metadata": {
    "collapsed": false,
    "deletable": true,
    "editable": true
   },
   "outputs": [
    {
     "data": {
      "text/plain": [
       "LinearRegression(copy_X=True, fit_intercept=True, n_jobs=1, normalize=False)"
      ]
     },
     "execution_count": 45,
     "metadata": {},
     "output_type": "execute_result"
    }
   ],
   "source": [
    "# year, spread, home_id, home_team, home_offense, home_defense, away_id, away_team, away_offense, away_defense, winloss\n",
    "pointspreads = []\n",
    "historical_stats = []\n",
    "\n",
    "for index in range(0, len(data)):\n",
    "    row = data[index]\n",
    "    if not isnan(row[4]) and not isnan(row[5]) and not isnan(row[8]) and not isnan(row[9]):\n",
    "        historical_stats.append([row[4], row[5], row[8], row[9]])\n",
    "        pointspreads.append(row[1])\n",
    "\n",
    "regressor = LinearRegression()\n",
    "regressor.fit(historical_stats, pointspreads)"
   ]
  },
  {
   "cell_type": "markdown",
   "metadata": {
    "deletable": true,
    "editable": true
   },
   "source": [
    "Run a logistic regression against the team stats for each game"
   ]
  },
  {
   "cell_type": "code",
   "execution_count": 46,
   "metadata": {
    "collapsed": false,
    "deletable": true,
    "editable": true
   },
   "outputs": [
    {
     "data": {
      "text/plain": [
       "LogisticRegression(C=1.0, class_weight=None, dual=False, fit_intercept=True,\n",
       "          intercept_scaling=1, max_iter=100, multi_class='ovr', n_jobs=1,\n",
       "          penalty='l2', random_state=None, solver='lbfgs', tol=0.0001,\n",
       "          verbose=0, warm_start=False)"
      ]
     },
     "execution_count": 46,
     "metadata": {},
     "output_type": "execute_result"
    }
   ],
   "source": [
    "# year, home_id, home_team, home_offense, home_defense, away_id, away_team, away_offense, away_defense, \n",
    "# neutral_site, home_win\n",
    "game_data = from_csv('./datasets/games_since_2002.csv')\n",
    "\n",
    "stats = [[row[3], row[4], row[7], row[8], row[9]] for row in game_data]\n",
    "labels = np.asarray(game_data[:, -1], dtype='int')\n",
    "\n",
    "game_classifier = LogisticRegression(solver = 'lbfgs')\n",
    "game_classifier.fit(stats, labels)"
   ]
  },
  {
   "cell_type": "markdown",
   "metadata": {
    "deletable": true,
    "editable": true
   },
   "source": [
    "Predict the winner based on the game data"
   ]
  },
  {
   "cell_type": "code",
   "execution_count": 47,
   "metadata": {
    "collapsed": false,
    "deletable": true,
    "editable": true
   },
   "outputs": [
    {
     "name": "stdout",
     "output_type": "stream",
     "text": [
      "Gonzaga over Villanova probability is 61.13%\n",
      "Gonzaga over North Carolina probability is 67.31%\n",
      "Gonzaga over Kentucky probability is 68.71%\n",
      "Gonzaga over West Virginia probability is 69.67%\n",
      "Gonzaga over Louisville probability is 69.88%\n",
      "Gonzaga over Virginia probability is 69.80%\n",
      "Gonzaga over Wichita St probability is 70.53%\n",
      "Gonzaga over Florida probability is 70.44%\n",
      "Gonzaga over Kansas probability is 71.51%\n",
      "Gonzaga over SMU probability is 72.60%\n",
      "...\n"
     ]
    }
   ],
   "source": [
    "# home_offense,home_defense,away_offense,away_defense,neutral_location,home_team,away_team\n",
    "all_matchups = from_csv('./datasets/bracket.csv')\n",
    "\n",
    "games = all_matchups[:, :-2]\n",
    "games_without_location = games[:, :-1]\n",
    "estimated_spreads = regressor.predict(games_without_location).reshape(-1, 1)\n",
    "teams = all_matchups[:, -2:]\n",
    "\n",
    "outcomes_from_spreads = spread_classifier.predict_proba(estimated_spreads)[:, 1]\n",
    "outcomes_from_games = game_classifier.predict_proba(games)[:, 1]\n",
    "predictions = (0.25 * outcomes_from_spreads) + (0.75 * outcomes_from_games)\n",
    "\n",
    "for index in range(0, 10):\n",
    "    print \"{} over {} probability is {:.2f}%\".format(teams[index][0], teams[index][1], predictions[index] * 100)\n",
    "\n",
    "print \"...\""
   ]
  },
  {
   "cell_type": "markdown",
   "metadata": {
    "deletable": true,
    "editable": true
   },
   "source": [
    "Allow manual entry to inspect outcomes"
   ]
  },
  {
   "cell_type": "code",
   "execution_count": 48,
   "metadata": {
    "collapsed": false,
    "deletable": true,
    "editable": true
   },
   "outputs": [],
   "source": [
    "manual = {}\n",
    "\n",
    "for index in range(0, len(teams)):\n",
    "    home = teams[index][0]\n",
    "    away = teams[index][1]\n",
    "    \n",
    "    value = manual.get(home, {})\n",
    "    value[away] = predictions[index]\n",
    "    manual[home] = value\n",
    "    \n",
    "for index in range(0, len(teams)):\n",
    "    home = teams[index][0]\n",
    "    away = teams[index][1]\n",
    "    \n",
    "    value = manual.get(away, {})\n",
    "    value[home] = 1 - predictions[index]\n",
    "    manual[away] = value"
   ]
  },
  {
   "cell_type": "markdown",
   "metadata": {
    "deletable": true,
    "editable": true
   },
   "source": [
    "Manually retrieve results"
   ]
  },
  {
   "cell_type": "code",
   "execution_count": 49,
   "metadata": {
    "collapsed": false,
    "deletable": true,
    "editable": true
   },
   "outputs": [
    {
     "name": "stdout",
     "output_type": "stream",
     "text": [
      "Marquette over South Carolina is 54.85%\n"
     ]
    }
   ],
   "source": [
    "manual_home_team = \"Marquette\"\n",
    "manual_away_team = \"South Carolina\"\n",
    "percent = manual[manual_home_team][manual_away_team] * 100\n",
    "\n",
    "print \"{} over {} is {:.2f}%\".format(manual_home_team, manual_away_team, percent)"
   ]
  },
  {
   "cell_type": "markdown",
   "metadata": {
    "deletable": true,
    "editable": true
   },
   "source": [
    "Save the predictions to a CSV for uploading to Kaggle"
   ]
  },
  {
   "cell_type": "code",
   "execution_count": 39,
   "metadata": {
    "collapsed": false,
    "deletable": true,
    "editable": true
   },
   "outputs": [],
   "source": [
    "ids = pd.read_csv('./datasets/ids.csv')\n",
    "\n",
    "def name_to_id(name, ids):\n",
    "    return np.asarray(ids.loc[ids['Team_Name'] == name]['Team_Id'])[0]\n",
    "\n",
    "results = []\n",
    "\n",
    "for index in range(0, len(predictions)):\n",
    "    home_name = teams[index][0]\n",
    "    away_name = teams[index][1]\n",
    "    home_id = name_to_id(home_name, ids)\n",
    "    away_id = name_to_id(away_name, ids)\n",
    "    \n",
    "    if int(home_id) < int(away_id):\n",
    "        results.append([\"2017_{}_{}\".format(home_id, away_id), predictions[index]])\n",
    "    \n",
    "    if int(away_id) < int(home_id):\n",
    "        results.append([\"2017_{}_{}\".format(away_id, home_id), 1 - predictions[index]])\n",
    "\n",
    "pd.DataFrame(data=results).to_csv('./datasets/kaggle_predictions.csv', index=False)"
   ]
  }
 ],
 "metadata": {
  "kernelspec": {
   "display_name": "Python 2",
   "language": "python",
   "name": "python2"
  },
  "language_info": {
   "codemirror_mode": {
    "name": "ipython",
    "version": 2
   },
   "file_extension": ".py",
   "mimetype": "text/x-python",
   "name": "python",
   "nbconvert_exporter": "python",
   "pygments_lexer": "ipython2",
   "version": "2.7.13"
  }
 },
 "nbformat": 4,
 "nbformat_minor": 2
}
